{
 "cells": [
  {
   "cell_type": "markdown",
   "metadata": {},
   "source": [
    "# Object-Oriented-Programming (OOP)"
   ]
  },
  {
   "cell_type": "markdown",
   "metadata": {},
   "source": [
    "## Tasks Today:\n",
    "\n",
    "   \n",
    "\n",
    "1) <b>Creating a Class (Initializing/Declaring)</b> <br>\n",
    "2) <b>Using a Class (Instantiating)</b> <br>\n",
    " &nbsp;&nbsp;&nbsp;&nbsp; a) Creating One Instance <br>\n",
    " &nbsp;&nbsp;&nbsp;&nbsp; b) Creating Multiple Instances <br>\n",
    " &nbsp;&nbsp;&nbsp;&nbsp; c) In-Class Exercise #1 - Create a Class 'Car' and instantiate three different makes of cars <br>\n",
    "3) <b>The \\__init\\__() Method</b> <br>\n",
    " &nbsp;&nbsp;&nbsp;&nbsp; a) The 'self' Attribute <br>\n",
    "4) <b>Class Attributes</b> <br>\n",
    " &nbsp;&nbsp;&nbsp;&nbsp; a) Initializing Attributes <br>\n",
    " &nbsp;&nbsp;&nbsp;&nbsp; b) Setting an Attribute Outside of the \\__init\\__() Method <br>\n",
    " &nbsp;&nbsp;&nbsp;&nbsp; c) Setting Defaults for Attributes <br>\n",
    " &nbsp;&nbsp;&nbsp;&nbsp; d) Accessing Class Attributes <br>\n",
    " &nbsp;&nbsp;&nbsp;&nbsp; e) Changing Class Attributes <br>\n",
    " &nbsp;&nbsp;&nbsp;&nbsp; f) In-Class Exercise #2 - Add a color and wheels attribute to your 'Car' class <br>\n",
    "5) <b>Class Methods</b> <br>\n",
    " &nbsp;&nbsp;&nbsp;&nbsp; a) Creating <br>\n",
    " &nbsp;&nbsp;&nbsp;&nbsp; b) Calling <br>\n",
    " &nbsp;&nbsp;&nbsp;&nbsp; c) Modifying an Attribute's Value Through a Method <br>\n",
    " &nbsp;&nbsp;&nbsp;&nbsp; d) Incrementing an Attribute's Value Through a Method <br>\n",
    " &nbsp;&nbsp;&nbsp;&nbsp; e) In-Class Exercise #3 - Add a method that prints the cars color and wheel number, then call them <br>\n",
    "6) <b>Inheritance</b> <br>\n",
    " &nbsp;&nbsp;&nbsp;&nbsp; a) Syntax for Inheriting from a Parent Class <br>\n",
    " &nbsp;&nbsp;&nbsp;&nbsp; b) The \\__init\\__() Method for a Child Class (super()) <br>\n",
    " &nbsp;&nbsp;&nbsp;&nbsp; c) Defining Attributes and Methods for the Child Class <br>\n",
    " &nbsp;&nbsp;&nbsp;&nbsp; d) Method Overriding <br>\n",
    " &nbsp;&nbsp;&nbsp;&nbsp; e) In-Class Exercise #4 - Create a class 'Ford' that inherits from 'Car' class and initialize it as a Blue Ford Explorer with 4 wheels using the super() method <br>\n",
    "7) <b>Classes as Attributes</b> <br>\n",
    "8) <b>Exercises</b> <br>\n",
    " &nbsp;&nbsp;&nbsp;&nbsp; a) Exercise #1 - Turn the shopping cart program from yesterday into an object-oriented program <br>"
   ]
  },
  {
   "cell_type": "markdown",
   "metadata": {},
   "source": [
    "## Creating a Class (Initializing/Declaring)\n",
    "<p>When creating a class, function, or even a variable you are initializing that object. Initializing and Declaring occur at the same time in Python, whereas in lower level languages you have to declare an object before initializing it. This is the first step in the process of using a class.</p>"
   ]
  },
  {
   "cell_type": "code",
   "execution_count": 4,
   "metadata": {},
   "outputs": [],
   "source": [
    "class Car():\n",
    "    wheels = 4\n",
    "    color = 'blue'"
   ]
  },
  {
   "cell_type": "markdown",
   "metadata": {},
   "source": [
    "## Using a Class (Instantiating)\n",
    "<p>The process of creating a class is called <i>Instantiating</i>. Each time you create a variable of that type of class, it is referred to as an <i>Instance</i> of that class. This is the second step in the process of using a class.</p>"
   ]
  },
  {
   "cell_type": "markdown",
   "metadata": {},
   "source": [
    "##### Creating One Instance"
   ]
  },
  {
   "cell_type": "code",
   "execution_count": null,
   "metadata": {},
   "outputs": [],
   "source": [
    "ford = Car()"
   ]
  },
  {
   "cell_type": "markdown",
   "metadata": {},
   "source": [
    "##### Creating Multiple Instances"
   ]
  },
  {
   "cell_type": "code",
   "execution_count": null,
   "metadata": {},
   "outputs": [],
   "source": []
  },
  {
   "cell_type": "markdown",
   "metadata": {},
   "source": [
    "##### In-Class Exercise #1 - Create a Class 'Car' and Instantiate three different makes of cars"
   ]
  },
  {
   "cell_type": "code",
   "execution_count": 3,
   "metadata": {},
   "outputs": [
    {
     "name": "stdout",
     "output_type": "stream",
     "text": [
      "ford subaru honda\n"
     ]
    }
   ],
   "source": [
    "class Car():\n",
    "    def __init__(self, make):\n",
    "        self.make = make\n",
    "        \n",
    "my_car = Car(\"ford\")\n",
    "your_car = Car(\"subaru\")\n",
    "their_car = Car(\"honda\")\n",
    "\n",
    "print(my_car.make, your_car.make, their_car.make)"
   ]
  },
  {
   "cell_type": "markdown",
   "metadata": {},
   "source": [
    "## The \\__init\\__() Method <br>\n",
    "<p>This method is used in almost every created class, and called only once upon the creation of the class instance. This method will initialize all variables needed for the object.</p>"
   ]
  },
  {
   "cell_type": "code",
   "execution_count": null,
   "metadata": {},
   "outputs": [],
   "source": []
  },
  {
   "cell_type": "markdown",
   "metadata": {},
   "source": [
    "##### The 'self' Attribute <br>\n",
    "<p>This attribute is required to keep track of specific instance's attributes. Without the self attribute, the program would not know how to reference or keep track of an instance's attributes.</p>"
   ]
  },
  {
   "cell_type": "code",
   "execution_count": null,
   "metadata": {},
   "outputs": [],
   "source": [
    "# see above"
   ]
  },
  {
   "cell_type": "markdown",
   "metadata": {},
   "source": [
    "## Class Attributes <br>\n",
    "<p>While variables are inside of a class, they are referred to as attributes and not variables. When someone says 'attribute' you know they're speaking about a class. Attributes can be initialized through the init method, or outside of it.</p>"
   ]
  },
  {
   "cell_type": "markdown",
   "metadata": {},
   "source": [
    "##### Initializing Attributes"
   ]
  },
  {
   "cell_type": "code",
   "execution_count": null,
   "metadata": {},
   "outputs": [],
   "source": [
    "# see above"
   ]
  },
  {
   "cell_type": "markdown",
   "metadata": {},
   "source": [
    "##### Accessing Class Attributes"
   ]
  },
  {
   "cell_type": "code",
   "execution_count": null,
   "metadata": {
    "scrolled": true
   },
   "outputs": [],
   "source": [
    "# See Above"
   ]
  },
  {
   "cell_type": "markdown",
   "metadata": {},
   "source": [
    "##### Setting Defaults for Attributes"
   ]
  },
  {
   "cell_type": "code",
   "execution_count": null,
   "metadata": {},
   "outputs": [],
   "source": []
  },
  {
   "cell_type": "markdown",
   "metadata": {},
   "source": [
    "##### Changing Class Attributes <br>\n",
    "<p>Keep in mind there are global class attributes and then there are attributes only available to each class instance which won't effect other classes.</p>"
   ]
  },
  {
   "cell_type": "code",
   "execution_count": null,
   "metadata": {},
   "outputs": [],
   "source": []
  },
  {
   "cell_type": "code",
   "execution_count": null,
   "metadata": {},
   "outputs": [],
   "source": []
  },
  {
   "cell_type": "markdown",
   "metadata": {},
   "source": [
    "##### In-Class Exercise #2 - Add a doors and seats attribute to your 'Car' class then print out two different instances with different doors and seats"
   ]
  },
  {
   "cell_type": "code",
   "execution_count": 8,
   "metadata": {},
   "outputs": [
    {
     "name": "stdout",
     "output_type": "stream",
     "text": [
      "My ford has 2 doors and 3 seats. Your subaru has 4 doors and 5 seats.\n"
     ]
    }
   ],
   "source": [
    "my_car.doors, my_car.seats = 2, 3\n",
    "your_car.doors, your_car.seats = 4, 5\n",
    "print(f\"My {my_car.make} has {my_car.doors} doors and {my_car.seats} seats. Your {your_car.make} has {your_car.doors} doors and {your_car.seats} seats.\")"
   ]
  },
  {
   "cell_type": "markdown",
   "metadata": {},
   "source": [
    "## Class Methods <br>\n",
    "<p>While inside of a class, functions are referred to as 'methods'. If you hear someone mention methods, they're speaking about classes. Methods are essentially functions, but only callable on the instances of a class.</p>"
   ]
  },
  {
   "cell_type": "markdown",
   "metadata": {},
   "source": [
    "##### Creating"
   ]
  },
  {
   "cell_type": "code",
   "execution_count": null,
   "metadata": {},
   "outputs": [],
   "source": []
  },
  {
   "cell_type": "markdown",
   "metadata": {},
   "source": [
    "##### Calling"
   ]
  },
  {
   "cell_type": "code",
   "execution_count": null,
   "metadata": {},
   "outputs": [],
   "source": [
    "# See Above"
   ]
  },
  {
   "cell_type": "markdown",
   "metadata": {},
   "source": [
    "##### Modifying an Attribute's Value Through a Method"
   ]
  },
  {
   "cell_type": "code",
   "execution_count": null,
   "metadata": {},
   "outputs": [],
   "source": []
  },
  {
   "cell_type": "markdown",
   "metadata": {},
   "source": [
    "##### Incrementing an Attribute's Value Through a Method"
   ]
  },
  {
   "cell_type": "code",
   "execution_count": null,
   "metadata": {},
   "outputs": [],
   "source": []
  },
  {
   "cell_type": "markdown",
   "metadata": {},
   "source": [
    "##### In-Class Exercise #3 - Add a method that takes in three parameters of year, doors and seats and prints out a formatted print statement with make, model, year, seats, and doors"
   ]
  },
  {
   "cell_type": "code",
   "execution_count": 11,
   "metadata": {},
   "outputs": [
    {
     "name": "stdout",
     "output_type": "stream",
     "text": [
      "This car is a 2002 ford ranger with 2 doors and 3 seats.\n"
     ]
    }
   ],
   "source": [
    "class Car2():\n",
    "    def __init__(self, make, model):\n",
    "        self.year = 0\n",
    "        self.doors = 0\n",
    "        self.seats = 0\n",
    "        self.make = make\n",
    "        self.model = model\n",
    "    \n",
    "    def get_info(self, year, doors, seats):\n",
    "        self.year = year\n",
    "        self.doors = doors\n",
    "        self.seats = seats\n",
    "        print (f\"This car is a {self.year} {self.make} {self.model} with {self.doors} doors and {self.seats} seats.\")\n",
    "\n",
    "gary = Car2(\"ford\", \"ranger\")\n",
    "gary.get_info(2002, 2, 3)\n",
    "\n"
   ]
  },
  {
   "cell_type": "markdown",
   "metadata": {},
   "source": [
    "## Inheritance <br>\n",
    "<p>You can create a child-parent relationship between two classes by using inheritance. What this allows you to do is have overriding methods, but also inherit traits from the parent class. Think of it as an actual parent and child, the child will inherit the parent's genes, as will the classes in OOP</p>"
   ]
  },
  {
   "cell_type": "markdown",
   "metadata": {},
   "source": [
    "##### Syntax for Inheriting from a Parent Class"
   ]
  },
  {
   "cell_type": "code",
   "execution_count": null,
   "metadata": {},
   "outputs": [],
   "source": []
  },
  {
   "cell_type": "markdown",
   "metadata": {},
   "source": [
    "##### The \\__init\\__() Method for a Child Class - super()"
   ]
  },
  {
   "cell_type": "code",
   "execution_count": null,
   "metadata": {
    "scrolled": true
   },
   "outputs": [],
   "source": []
  },
  {
   "cell_type": "markdown",
   "metadata": {},
   "source": [
    "##### Defining Attributes and Methods for the Child Class"
   ]
  },
  {
   "cell_type": "code",
   "execution_count": null,
   "metadata": {},
   "outputs": [],
   "source": [
    "# See Above"
   ]
  },
  {
   "cell_type": "markdown",
   "metadata": {},
   "source": [
    "##### Method Overriding"
   ]
  },
  {
   "cell_type": "code",
   "execution_count": null,
   "metadata": {},
   "outputs": [],
   "source": [
    "# See Above"
   ]
  },
  {
   "cell_type": "markdown",
   "metadata": {},
   "source": [
    "## Classes as Attributes <br>\n",
    "<p>Classes can also be used as attributes within another class. This is useful in situations where you need to keep variables locally stored, instead of globally stored.</p>"
   ]
  },
  {
   "cell_type": "code",
   "execution_count": null,
   "metadata": {},
   "outputs": [],
   "source": []
  },
  {
   "cell_type": "markdown",
   "metadata": {},
   "source": [
    "# Exercises"
   ]
  },
  {
   "cell_type": "markdown",
   "metadata": {},
   "source": [
    "### Exercise 1 - Turn the shopping cart program from yesterday into an object-oriented program\n",
    "\n",
    "The comments in the cell below are there as a guide for thinking about the problem. However, if you feel a different way is best for you and your own thought process, please do what feels best for you by all means."
   ]
  },
  {
   "cell_type": "code",
   "execution_count": 23,
   "metadata": {},
   "outputs": [
    {
     "name": "stdout",
     "output_type": "stream",
     "text": [
      "To start shopping, please enter your name: Dylan\n",
      "\n",
      "Enter 'v' to view cart, 'a' to add item, 'r' to remove item, 'c' to check out, 'e' to exit: v\n",
      "\n",
      "Shopping Cart is empty! Try adding some items.\n",
      "\n",
      "Enter 'v' to view cart, 'a' to add item, 'r' to remove item, 'c' to check out, 'e' to exit: r\n",
      "\n",
      "Nothing to remove! Try adding an item first.\n",
      "\n",
      "Enter 'v' to view cart, 'a' to add item, 'r' to remove item, 'c' to check out, 'e' to exit: a\n",
      "\n",
      "To add, enter item name: broccoli\n",
      "Now enter item price: $2.00\n",
      "\n",
      "'Broccoli' added to cart.\n",
      "\n",
      "Enter 'v' to view cart, 'a' to add item, 'r' to remove item, 'c' to check out, 'e' to exit: spinach\n",
      "\n",
      "Not a valid key! Please try again!\n",
      "\n",
      "Enter 'v' to view cart, 'a' to add item, 'r' to remove item, 'c' to check out, 'e' to exit: a\n",
      "\n",
      "To add, enter item name: spinach\n",
      "Now enter item price: $3.00\n",
      "\n",
      "'Spinach' added to cart.\n",
      "\n",
      "Enter 'v' to view cart, 'a' to add item, 'r' to remove item, 'c' to check out, 'e' to exit: a\n",
      "\n",
      "To add, enter item name: mushroom\n",
      "Now enter item price: $1.00\n",
      "\n",
      "'Mushroom' added to cart.\n",
      "\n",
      "Enter 'v' to view cart, 'a' to add item, 'r' to remove item, 'c' to check out, 'e' to exit: r\n",
      "\n",
      "To remove, enter item name: bacon\n",
      "\n",
      "'Bacon' not found. Maybe check your spelling?\n",
      "\n",
      "Enter 'v' to view cart, 'a' to add item, 'r' to remove item, 'c' to check out, 'e' to exit: r\n",
      "\n",
      "To remove, enter item name: spinach\n",
      "\n",
      "'Spinach' removed from cart.\n",
      "\n",
      "Enter 'v' to view cart, 'a' to add item, 'r' to remove item, 'c' to check out, 'e' to exit: c\n",
      "\n",
      "Your total is $3.0. Please enter 'p' pay: p\n",
      "\n",
      "Receipt:\n",
      "Broccoli..........$2.00\n",
      "Mushroom..........$1.00\n",
      "Thanks for shopping with us! Goodbye!\n"
     ]
    }
   ],
   "source": [
    "class ShoppingCart():\n",
    "    '''\n",
    "        When would I want to declare a variable outside the init function?\n",
    "    '''\n",
    "    \n",
    "    def __init__(self, cart_operator = \"Public\", cart = {}):\n",
    "        self.cart_operator = cart_operator\n",
    "        self.cart = cart\n",
    "        \n",
    "    def view_cart(self):\n",
    "        if self.cart:\n",
    "            print(\"\\nShopping Cart:\")\n",
    "            for key, value in self.cart.items():\n",
    "                print(f\"Item: {key}, Price: {value}\")\n",
    "        else:\n",
    "            print(\"\\nShopping Cart is empty! Try adding some items.\")\n",
    "    \n",
    "    def add_item(self):\n",
    "        item = input(\"\\nTo add, enter item name: \").lower()\n",
    "        price = input(\"Now enter item price: $\")\n",
    "        self.cart[item] = price\n",
    "        print(f\"\\n'{item.title()}' added to cart.\")\n",
    "    \n",
    "    def remove_item(self):\n",
    "        if self.cart:\n",
    "            put_back = input(\"\\nTo remove, enter item name: \").lower()\n",
    "            if put_back in self.cart:\n",
    "                del self.cart[put_back]\n",
    "                print(f\"\\n'{put_back.title()}' removed from cart.\")\n",
    "            else:\n",
    "                print(f\"\\n'{put_back.title()}' not found. Maybe check your spelling?\")\n",
    "        else:\n",
    "            print(f\"\\nNothing to remove! Try adding an item first.\")\n",
    "    \n",
    "    def check_out(self):\n",
    "        total = 0\n",
    "        for value in self.cart.values():\n",
    "            cost = float(value)\n",
    "            total += cost\n",
    "        pay = input(f\"\\nYour total is ${str(total)}. Please enter 'p' pay: \").lower()\n",
    "        if pay == 'p':\n",
    "            print(\"\\nReceipt:\")\n",
    "            for key, value in self.cart.items():\n",
    "                print(f\"{key.title()}..........${value}\")\n",
    "            print(\"Thanks for shopping with us! Goodbye!\")\n",
    "        else:\n",
    "            print(\"\\nYou did not enter 'p', which means you did not pay.\")\n",
    "            print(\"Hopefully you come back and buy this stuff!\")\n",
    "            for key, value in self.cart.items():\n",
    "                print(f\"You know you want a {key.title()}!\")\n",
    "            print(\"See you soon!\")\n",
    "                \n",
    "    def exit(self):\n",
    "        print(\"\\nHopefully you come back and buy this stuff!\")\n",
    "        for key, value in self.cart.items():\n",
    "            print(f\"You know you want a {key.title()}!\")\n",
    "        print(\"See you soon!\")\n",
    "        \n",
    "    def start_shopping(self):\n",
    "        self.cart_operator = input(\"To start shopping, please enter your name: \")\n",
    "        \n",
    "def run_shopping_cart():\n",
    "    '''This is so much easier than trying to do it without a class.'''\n",
    "    your_cart = ShoppingCart()\n",
    "    your_cart.start_shopping()\n",
    "    while True:\n",
    "        ask = input(\"\\nEnter 'v' to view cart, 'a' to add item, 'r' to remove item, 'c' to check out, 'e' to exit: \").lower()\n",
    "        if ask == \"v\":\n",
    "            your_cart.view_cart()\n",
    "        elif ask == \"a\":\n",
    "            your_cart.add_item()\n",
    "        elif ask == \"r\":\n",
    "            your_cart.remove_item()\n",
    "        elif ask == \"c\":\n",
    "            your_cart.check_out()\n",
    "            break\n",
    "        elif ask == \"e\":\n",
    "            your_cart.exit()\n",
    "            break\n",
    "        else:\n",
    "            print(\"\\nNot a valid key! Please try again!\")\n",
    "            \n",
    "        \n",
    "run_shopping_cart()"
   ]
  },
  {
   "cell_type": "markdown",
   "metadata": {},
   "source": [
    "### Exercise 2 - Write a Python class which has two methods get_String and print_String. get_String accept a string from the user and print_String print the string in upper case"
   ]
  },
  {
   "cell_type": "code",
   "execution_count": 22,
   "metadata": {},
   "outputs": [
    {
     "name": "stdout",
     "output_type": "stream",
     "text": [
      "Enter a sequence of characters: the awesome power of classes and functions used together\n",
      "Here's it back in all caps: THE AWESOME POWER OF CLASSES AND FUNCTIONS USED TOGETHER\n"
     ]
    }
   ],
   "source": [
    "class ThingStreory():\n",
    "    '''What are class and static methods used for?'''\n",
    "    \n",
    "    def __init__(self, string=\"\"):\n",
    "        self.string = string\n",
    "        \n",
    "    def get_string(self):\n",
    "        self.string = input(\"Enter a sequence of characters: \").lower()\n",
    "        \n",
    "    def print_string(self):\n",
    "        print(\"Here's it back in all caps: \" + self.string.upper())\n",
    "        \n",
    "def run():\n",
    "    '''What is functional programming as opposed to OOP?'''\n",
    "    \n",
    "    temporary_instance = ThingStreory()\n",
    "    temporary_instance.get_string()\n",
    "    temporary_instance.print_string()\n",
    "    \n",
    "run()    \n",
    "    "
   ]
  }
 ],
 "metadata": {
  "kernelspec": {
   "display_name": "Python 3 (ipykernel)",
   "language": "python",
   "name": "python3"
  },
  "language_info": {
   "codemirror_mode": {
    "name": "ipython",
    "version": 3
   },
   "file_extension": ".py",
   "mimetype": "text/x-python",
   "name": "python",
   "nbconvert_exporter": "python",
   "pygments_lexer": "ipython3",
   "version": "3.9.13"
  }
 },
 "nbformat": 4,
 "nbformat_minor": 2
}
